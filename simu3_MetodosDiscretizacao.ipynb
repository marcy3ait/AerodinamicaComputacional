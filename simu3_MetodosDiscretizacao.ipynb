{
  "nbformat": 4,
  "nbformat_minor": 0,
  "metadata": {
    "colab": {
      "name": "simu3_MetodosDiscretizacao",
      "provenance": [],
      "collapsed_sections": [],
      "include_colab_link": true
    },
    "kernelspec": {
      "name": "python3",
      "display_name": "Python 3"
    }
  },
  "cells": [
    {
      "cell_type": "markdown",
      "metadata": {
        "id": "view-in-github",
        "colab_type": "text"
      },
      "source": [
        "<a href=\"https://colab.research.google.com/github/marcy3ait/AerodinamicaComputacional/blob/master/simu3_MetodosDiscretizacao.ipynb\" target=\"_parent\"><img src=\"https://colab.research.google.com/assets/colab-badge.svg\" alt=\"Open In Colab\"/></a>"
      ]
    },
    {
      "cell_type": "markdown",
      "metadata": {
        "id": "gqFmdrOk_8R2"
      },
      "source": [
        "# <center>Atividade 6 - AeroComputacional </center>\n"
      ]
    },
    {
      "cell_type": "markdown",
      "metadata": {
        "id": "SIkfunBdAxaB"
      },
      "source": [
        "A atividade 06 consiste em variar parâmetros das equações modelos de difusão e advecção/convecção e analisar a inferencia de cada parâmetros no modelo físico da equação. Esses pamâmetros são:\n",
        "1. Método da derivada de primeira ordem para discretização do espaço.\n",
        "* Método Centrado;\n",
        "* Método Backaward;\n",
        "* Método Forward.\n",
        "2. Método para discretização do tempo.\n",
        "* Euler explicíto; \n",
        "* Runge-Kutta de 2ª ordem.\n",
        "3. Número de CFL\n",
        "4. Parâmetro 'a' (velocidade/viscosidade)\n",
        "\n"
      ]
    },
    {
      "cell_type": "markdown",
      "metadata": {
        "id": "myoTc2KiAMsQ"
      },
      "source": [
        "## **Equação de convecção/advecção**\n",
        "![texto do link](https://lh3.googleusercontent.com/We3VKprZcmPVRBMGd4kdAiK24qbFHvGtQJJsEUn4gwtBrSO8hc-1vjrL6HEAYxH5MRkOAt_qju224o5lB9MG3B591WAxp5P-E73TsR91IcVQ03GYBj2I1qOTNBklAxdtsbswGOCLAzGp8Iu0bGyYTYUwuxgbcWQUldFQ2gFp4TQFUIkSAmCLHoQPBRUw3lDEZ91g30nWgM2vZaDKoBNoiFrGH6NQ-oZMPM1xGJZWNxEyfIuR3ZcR2hfjfkEOXPLNPWmhiooLb4rLSZZ24H87YT5L4st0-KjUWWBUrdBVsbl6IwnO6u_GYhUTLcOu7lmq4tkDn6WJzFBZLYLQg36nMxHZrxD-GXdRQFD-57_CpGvv9cl4DNO83OZhalbfyONCI1e3-N1Uxvv6XDTO8QUjZq_t2bh4EIEn7VJUrilEbdppWl2L--C3zoP3oS4zkQrNaqsxYrMs7Ag37XtKEKOfgvPce_fTA5u6VTC2MkNSeqUWkjtRvYV4bqhHhAxnWg2-JsqbMrNCW0oYYFlY0athajwbPEEzS9ZYVpyWjMPqb2kWz7CH8IeKq2_a9d_2zNvQJ_77NIJDzJCP5fbKxi_-ENzskW9ltwvi42rev2lW-gCyM7DVv_AIUHtTCFj4yyKKMgZB5GU5QERYQnr6N4Nq2gqzlf0QD8e0RniUmFmsqgmiju9zsbR91HaWdBkHHw=w139-h57-no?authuser=0)\n",
        "### **Backward**\n",
        "Variando o parâmetro CFL viscosopara equação de convecção usando os métodos de discretização **Euler explícito** e **Backward**\n",
        "\n",
        "CFL = 0.5   | CFL = 1 | CFL = 20\n",
        ":---------: | :------:|:------:|\n",
        "![texto do link](https://lh3.googleusercontent.com/PY8BCR8-evL8OuYKLMI_NHv5JxhUmpDstZpyA3--59VG2Jmwum80uY_Z_8BkuB0wRxdDUeg4KMpw-YdiKaiBjqmMzeQlM3KwI6YhqfiLObzlKgeEkQcF4TzpIkZutragHx_gZ8UpAPe9uvVymgd8-1fWA3GI9onIWup3W3HUDfc6qJ_lSAO5Oon0UlrfQQkaN1hXmcaD9ie8TK33oKInLwPvZaBrkFaE1sJrlPtXaklS-elsl8HDxrHdFBJgrZcZeLkTjUCCdATbRi4eLCi8Z6P-GQTEIXd6azIX--HDXKauQlyrdqUZSOD6H9-c0QfIGRR4WdpLQg8jKii9pKV9D4F0cQM5huAupPQCpjN37L2uTbISt3ASgDJTmaUl-Hk-gwHBQDJTb-TEPuQrGf4k-qC6IjkntDnwZQ0Rs3QydgVBZVHYW8XNMH9OF1xaRmCHf-5Lf6N-UtxiPwKFa-uwJRkCjdUmzhiTuQ9WqRpXdXt7vMNk3ysFMTiQwbN_qufXiURYxTd8GXPyfHANDBS4tm3f-NicZvQFN4IOj2bbuvEMevKaMqqva92JNpMc0Cu0jRu3RtXXTs8iFVxVgiQn--ZwsApFBEm5wkSA1b8WihmK9gLEZG0IUkichzGoCbr0jnot44J6pUD9P2zpZxnC0CJGQXDb0Ydz903YjfFTe4HmEVLRNvsn2S53xroenQ=w640-h480-no?authuser=0) | ![texto do link](https://lh3.googleusercontent.com/RaS1Ju3Ax-YT2gEqz_kQwZEJZIDTbFXntvr0zHB8Lpgf5oaNSs0loaT5Gb-mUBauzVhQ5T3MQiLoU-0BGh0f9w-m9Nw3b0PpYfPhQMlYRXCSfP_ns6YZq6nPJiwe7ePup2OVAItgDX8eAQcR8u6CYldbI0eM4z6NMvI-wh07OYjB9G88muhtrCA_rYK9p8oHi8krytMvIuWGzvr5s7h0HTQVNGC8G5jd8IwdJOtto_TUKJOJsieoVvVirsgjEgCMWNmq0vpRRmQRCVt1QUGSuXIOpSGkXa4souW5wosZDX5gZm3Mz8nzSyUS1e38NpHvUVG2FWeclKqI2N8OdNNYYqmDebwBXy3CjUANdGJwI5XWeKZc0k0wOGVdd7JwlyEYE9azyzTEwZ1VTZ71TMBCDM6Fc34ZprhdCfw30GbE2cpcQgXA5d70SDBzLIXAUTYFLwUIQhpa7Nq_M2fqJBq2J4UVUkwSvuswV4uqTbVhI2HZcGtUMv0ASzr5hata7lsFcahu6YjNvmQVU11YRe6aW7DowaHXckxZGogbjj9l-Qm5OvEG4ZVb8H-PievIJ2wjd2bF1LS7lxbHZM6wtxaO7zBGaD6evwvsECxEdArsYm3gsIDXSOweuimhR6YTGNafvCatp2wxF2bRTY3mbQuXYXys0NHFoWGfw7Wn1SX1ZOEtVNrIaZ7g4-PZyw1HGQ=w640-h480-no?authuser=0)| ![texto do link](https://lh3.googleusercontent.com/q9zCQJB58Cip2ksYAVGgrWO2VOv_k-i5M1CLoXN76TN4B6mqLsfOZmdTbSDMHFCu1gFKKOxuRFT7YySVJvEb6o4BzDarziyAEXyCse-xxlNnCFVVkuuEmRMOsjmqRtb817t1QlyHQH3UESUUalwHxGIoYkr_SIGl4E--LGECXxFSZ3TAMh3yYrw8gTWsS5UcE1rYf7LBQhqCwYHy94F8vCTh4ke-SKOMHhufLh5rdPNsy2Oec862PX-cT02S6tnfUT0J42oWKICxVZ487buQxa1Nl82RoKmYIRZhhO0dQ_6IRyxFSweSGjnTElupUT1kGYTJCg3fnokMAA2mtgCRfKVHbw5BpqQdUG-Jk3oW70fdrWY5fvHfL6vuszIJdHsmarcvGxuQy764gTMSj8lTmHBZ8V2JIQNy35g1BrT5Y7SDJE8ZCERxnMhjtMq6WDxOSt6jMSSoCFa8yzOVO1-vOtB4-0G8hkXIBH8g-MYzKbGVPP6Oq7gTzJsQ7psG6PK_NTB8K1oS3EudsTHlKlkEc2w0TXGFJ9N21PKrN8KGp6s62kQMGl-LuXNWqsb7ApJbdygX7UwCnESVjTwLDPcdehj5tjLn5Tq3iSWpmvc9o-AYrofYC9A57vTJNQR5V91DTmLDfcPpTUpXXB46WhqIBWNauenbI40Q2Q_Tv1BrWktP6bJQ0JPTrVSE8C_n6Q=w640-h480-no?authuser=0)\n",
        "\n"
      ]
    },
    {
      "cell_type": "markdown",
      "metadata": {
        "id": "Kkol3g7WzoPr"
      },
      "source": [
        "\n",
        "Variando o parâmetro CFL para equação de convecção usando os métodos de discretização **Runge-kutta** e **Backward**\n",
        "\n",
        "CFL = 0.5   | CFL = 1 | CFL = 20\n",
        ":---------: | :------:|:------:|\n",
        "![texto do link](https://lh3.googleusercontent.com/Yto3eQJT6BbsnIWAA_cE0fd6PGAcAzo4UOuUsCr_Mz83gbuDg20jbZMCKeMEnjCbeNrjEHVfsyAw9SAV_bP2YGBi9LotxR-_vB1l2mPvaU-r-yt__Oxt2iMWzyUZIsYaj95aj7oGgVF7mHHkKKLL34fajH11N2X6SvNSdLh-LEH6hTvQUiqOhbIWbO5P8RoCsq2e0uw9QB7DwE-kw_j1TaAXDNR3-rD12MXxEldmjPtusoqPiWZhiERzr0O7JLDom8X89PsJo5Or7r7ed8xWrkAdstQFF95XDY0xt9G-5EGUpw52O7p0sttQWQLNbSEJ8iyRKEiUx-ewyfhUvw-mjcWrmbDRKA6zAOaPsf5Bh6qK25mhPnyIhm0bB-rPo_iisryP2ZLZo4HjE8dRHUaodHuhi-mpouYWSTTQy5aN9Eu_FqZvFw5Uyte9__tuOHqQ5TlKpBw5HWBTXq9LwWnZBE5Gf3gxUXZfcTtbPA8fAnBskfzXYR-YEP9C2Pl2Zb0966_vBfkbhHSV9tXVLTwJZG4gj3TLjkgtvr1SMSbOmQhSkPXJVKYYZqyOYTB3mhqla_K1Y5bM0YaqoOCM0eMThi02wXMVbdmASqyFE8O3IE-Wi_F2Oc9-e6AeiRPOaOuIye7siM8tZZ9kPzLaeYg8XjH-b6OhBjKnC8hk_pOkQe-c0XpaSM2lYVwc_ydEYA=w640-h480-no?authuser=0) | ![texto do link](https://lh3.googleusercontent.com/TQv85ZeqN3Cmq3_ecSXEcS-JkdvefPA4kITWREnoofO0AE0rfPHEK53hkA2fRGUQs8132MjCHm1LlQvCJBISgAgubMbzo5ewV0f0KYyQjTBAcjs6h5Pw9YA8u9DKopz_2pW4Nss9UTkwmCL6DW30LbKK6kHQQh7PjtMM5FWje-PAxe8bjA0eGUfrSBiYlCpvVL7p2iFt68jGUj1t9TV_aUOAnhzNOGuoYPeH5BtWpZII1p-NVNyM7CKWFRUBuFGxgQNgIbwIDtCFLrN6K3LweLZwNVAo9Zn2CGcBCgCI3fyint3dW7BYm_wJV2wevzrX0vMKHWFXxNQ4sS3GPtnAorhMdDss1JKierVDzar2fsk5Jk29mrHS4gtg7FcV24MXr8YCUDZevtdxfFuJQ9SQE5H8uklYIQep7xvzt6g--Np7xsdykUaqBMd5HlrRrkd0Yppb0Mt86LojPTjV21_pW8WQbk8mR_BZeKVoNjAFqHqJ7hYCK0bkBRm5B5-feAgmkXJA-MGaNpiWttXH6wRCPAe7Z8xZ0e7-g4QuO3rWyNNgQ80Uj24Jm8F89lGQszVjqyxn3IOAJ-lzliyM8HtqSCzI1RZIasO9mcpwJ1uPEBNt2w5QVNa2u3ET4DGcabjobdlNOtznHJKMIUbkdaBF4p4RH2WDaEC1nRdgNXgJYAyuFXld6sLTzPKNg82gEg=w640-h480-no?authuser=0)| ![texto do link](https://lh3.googleusercontent.com/q9zCQJB58Cip2ksYAVGgrWO2VOv_k-i5M1CLoXN76TN4B6mqLsfOZmdTbSDMHFCu1gFKKOxuRFT7YySVJvEb6o4BzDarziyAEXyCse-xxlNnCFVVkuuEmRMOsjmqRtb817t1QlyHQH3UESUUalwHxGIoYkr_SIGl4E--LGECXxFSZ3TAMh3yYrw8gTWsS5UcE1rYf7LBQhqCwYHy94F8vCTh4ke-SKOMHhufLh5rdPNsy2Oec862PX-cT02S6tnfUT0J42oWKICxVZ487buQxa1Nl82RoKmYIRZhhO0dQ_6IRyxFSweSGjnTElupUT1kGYTJCg3fnokMAA2mtgCRfKVHbw5BpqQdUG-Jk3oW70fdrWY5fvHfL6vuszIJdHsmarcvGxuQy764gTMSj8lTmHBZ8V2JIQNy35g1BrT5Y7SDJE8ZCERxnMhjtMq6WDxOSt6jMSSoCFa8yzOVO1-vOtB4-0G8hkXIBH8g-MYzKbGVPP6Oq7gTzJsQ7psG6PK_NTB8K1oS3EudsTHlKlkEc2w0TXGFJ9N21PKrN8KGp6s62kQMGl-LuXNWqsb7ApJbdygX7UwCnESVjTwLDPcdehj5tjLn5Tq3iSWpmvc9o-AYrofYC9A57vTJNQR5V91DTmLDfcPpTUpXXB46WhqIBWNauenbI40Q2Q_Tv1BrWktP6bJQ0JPTrVSE8C_n6Q=w640-h480-no?authuser=0)\n",
        "\n"
      ]
    },
    {
      "cell_type": "markdown",
      "metadata": {
        "id": "lBmgkM4TzKfk"
      },
      "source": [
        "De modo geral, é possível notar que a solução é estável para valores de CFL menor que 1, para valores maior que 1 a solução 'explode', outra coisa que se observou-se é que para valores de CFL inferior a 1 a equação transmite a informação, porém essa também é difundida(perda de amplitude da CI). Para CFL=1 a informação é apenas transmitida não se observando o efeito difusivo."
      ]
    },
    {
      "cell_type": "markdown",
      "metadata": {
        "id": "j_FM4s6_1NQ8"
      },
      "source": [
        "### **Centrada**\n",
        "Variando o parâmetro CFL para equação de convecção usando os métodos de discretização **Euler explicíto** e **Centrado**\n",
        "\n",
        "CFL = 0.5   | CFL = 1 | CFL = 20\n",
        ":---------: | :------:|:------:|\n",
        "![texto do link](https://lh3.googleusercontent.com/pw/ACtC-3eyMxJ7vJLs2lIDKrNf9Z1IwdV6v-A8zESVXotEhbJMwpJu7Hk-atgMiJIq9kI85QTfPfIntDbfGj4snQiUns7NJ3ZggaajPssbzB95y0sAL9fi1Q4UazG23U4azLDPXo1OpTE1nye_OiRiVPFu6oY_=w640-h480-no?authuser=0) | ![texto do link](https://lh3.googleusercontent.com/pw/ACtC-3eIZvfGZhFteZoomRm336pjqWoAdSfP1iD_CII1U4Z0m6fON3141h-T_vNIVaeJIw9SY4ozG_ztJbKHcCuRWfniucyA9KdBO4L_lM_HSKAbI7_zGOIQJvFVK5RArkDVeVAz60qCo_gbthZT9HyC9QeA=w640-h480-no?authuser=0)| ![texto do link](https://lh3.googleusercontent.com/pw/ACtC-3f6qIbRBVtqPdro5KXeHTYeT4-irXHp2tn8slc-vrr72cOdHM8i7Xu7AAZ6RP3L8aWJBRR0LWOro20kFB86A2RxkZf3T-EyyD8tknGbzMvpbO7Xnz4J0ky_Iy6TDoeo-ojC4DA-DxP7tlHep2bYcq-T=w640-h480-no?authuser=0)\n",
        "\n"
      ]
    },
    {
      "cell_type": "markdown",
      "metadata": {
        "id": "3Tq74uKh4xH7"
      },
      "source": [
        "CFL = 0.1   | \n",
        ":---------: |\n",
        "![texto do link](https://lh3.googleusercontent.com/pw/ACtC-3eUeo5JK139MIpZTLm4jn-7vm9m-8RWA5HMpaNAL0vHotZDcghrOTU3D7dTEIvVktJTe3QZlviG-pYz3tC3zvEzJEzKd_VMw_phUveb5mi2of2ht_m99nZNn7e74R1Xco5Hq7HPPcdq87htFdG8m7U7=w640-h480-no?authuser=0) | "
      ]
    },
    {
      "cell_type": "markdown",
      "metadata": {
        "id": "67qS6A5W52S4"
      },
      "source": [
        "\n",
        "Variando o parâmetro CFL para equação de convecção usando os métodos de discretização **Runge-Kutta** e **Centrado**\n",
        "\n",
        "CFL = 0.5   | CFL = 1 | CFL = 20\n",
        ":---------: | :------:|:------:|\n",
        "![texto do link](https://lh3.googleusercontent.com/pw/ACtC-3fxO8GH6ZkrCWcOKB29YSlCmERgwlm9ZG2uS5S93zOBdKmAlmuWQYEmd7Y1MmI5QxQ-edB8UDxrU2uV9idwrqmdlmC66GUPxTUQsXc4vq9br29VH179y1DziPXh0XMdtFxjPkuN_coD55JFwtMmaQxV=w640-h480-no?authuser=0) | ![texto do link](https://lh3.googleusercontent.com/pw/ACtC-3e7GG7fH6UU_nPiGwUmzyPFkmsF8VeAMjHBf3lZ7pVvJdFAqU93-0_0E8NX7LTwBYPgeHRUynhFMifOsFyBmCL1IX5hYO4pVES1Ld1Srb6hczXQekDVvDv063p2kW9JSpd_8Q79su16xReu8UF033C7=w640-h480-no?authuser=0)| ![texto do link](https://lh3.googleusercontent.com/q9zCQJB58Cip2ksYAVGgrWO2VOv_k-i5M1CLoXN76TN4B6mqLsfOZmdTbSDMHFCu1gFKKOxuRFT7YySVJvEb6o4BzDarziyAEXyCse-xxlNnCFVVkuuEmRMOsjmqRtb817t1QlyHQH3UESUUalwHxGIoYkr_SIGl4E--LGECXxFSZ3TAMh3yYrw8gTWsS5UcE1rYf7LBQhqCwYHy94F8vCTh4ke-SKOMHhufLh5rdPNsy2Oec862PX-cT02S6tnfUT0J42oWKICxVZ487buQxa1Nl82RoKmYIRZhhO0dQ_6IRyxFSweSGjnTElupUT1kGYTJCg3fnokMAA2mtgCRfKVHbw5BpqQdUG-Jk3oW70fdrWY5fvHfL6vuszIJdHsmarcvGxuQy764gTMSj8lTmHBZ8V2JIQNy35g1BrT5Y7SDJE8ZCERxnMhjtMq6WDxOSt6jMSSoCFa8yzOVO1-vOtB4-0G8hkXIBH8g-MYzKbGVPP6Oq7gTzJsQ7psG6PK_NTB8K1oS3EudsTHlKlkEc2w0TXGFJ9N21PKrN8KGp6s62kQMGl-LuXNWqsb7ApJbdygX7UwCnESVjTwLDPcdehj5tjLn5Tq3iSWpmvc9o-AYrofYC9A57vTJNQR5V91DTmLDfcPpTUpXXB46WhqIBWNauenbI40Q2Q_Tv1BrWktP6bJQ0JPTrVSE8C_n6Q=w640-h480-no?authuser=0)\n",
        "\n"
      ]
    },
    {
      "cell_type": "markdown",
      "metadata": {
        "id": "Bb5x-mvF6kBg"
      },
      "source": [
        "CFL = 0.1   | \n",
        ":---------: |\n",
        "![texto do link](https://lh3.googleusercontent.com/pw/ACtC-3ektpgYA7mqj26Bt92-nT63BL3kFzPNte4U8xJHNO0ENFS9Tx0P980c6yKPTxReY74HxPl_gVX9a3ZYQKwFJZ9lANYJ9XXxhwmYJOhcN60hMHHC1m_bcUpuF0f2DdWuv3l0P-RcRI1YknMs3DVKIxfv=w640-h480-no?authuser=0) | "
      ]
    },
    {
      "cell_type": "markdown",
      "metadata": {
        "id": "3miUsezO2Er3"
      },
      "source": [
        "Para o método Centrado observou-se que a instábilidade já aparece para pequenos valores de CFL. Observando melhor esse método para valores pequeno de CFL(0.1), notou-se que a informação é transmitida com uma pequena atenuação e associada a um grande ruído que cresce com o passo de tempo (a solução torna-se instável proxímo a fronteira)\n",
        "\n",
        "\n"
      ]
    },
    {
      "cell_type": "markdown",
      "metadata": {
        "id": "Fa-DoAs57b3J"
      },
      "source": [
        "### **Forward**\n",
        "Variando o parâmetro CFL para equação de convecção usando os métodos de discretização **Euler explicíto** e **Forward**\n",
        "\n",
        "CFL = 0.5   | CFL = 1 | CFL = 20\n",
        ":---------: | :------:|:------:|\n",
        "![texto do link](https://lh3.googleusercontent.com/pw/ACtC-3fdIuvPtsTIXP3B8ZOax5-Dc3qBoVG6CfiEQ73XtN10AiEblzsD3FdGiBUWW_ZGZa-BPn6tRLeQgBuXEvGfRwmH-uYvvAlW6sZgpP_1QqvBQlvLEzwAqP3Ohhy5GiNrtbgr-HOh3L7xXY7Aanc28_g4=w640-h480-no?authuser=0) | ![texto do link](https://lh3.googleusercontent.com/pw/ACtC-3fbDc9ug1W_IlalI5CzYyaevKL_sK8Ur74I2FwDsUuMNJAzoWznsHRWnvMU0IfXYNSTpPkUY2BxNKTmE4vJ0YGK2uDvbqJJ90FmwyFkb5QOTt0aMw4pMJkntGgVwKj6w5fN6wB_720Qzo4DhDtUPwlL=w640-h480-no?authuser=0)| ![texto do link](https://lh3.googleusercontent.com/pw/ACtC-3ceKfW3HnB0RNl3ysNx_dBAqXTyd4VnDO5SFR9hLjkLrSNEExSclM5K9eEIKXV1gzz2Qfdp1l3NbSLydEigNuEQkMjVEmxZu8A2dN1bT_BM1bHUSbRvRgM2NwbZVhRJkDQnw4gj2fKJonRzNdr3Kjru=w640-h480-no?authuser=0)\n",
        "\n"
      ]
    },
    {
      "cell_type": "markdown",
      "metadata": {
        "id": "K67uv9IP8JV1"
      },
      "source": [
        "CFL = 0.1   | \n",
        ":---------: |\n",
        "![texto do link](https://lh3.googleusercontent.com/pw/ACtC-3cwfLTUkA_2XQzLddU-9ZKNmjkIILDxFQkTJ-Vkemz7grzDtCU-lpe0VRd1mmsyb26HZY60oqfWAbOCDwyi5nUj7eZ2ddAse3tDJL_wTWFCigImkyw2L-ZLvg2zLuR-oi44RcrzWXU3jjH9k12zIxqv=w640-h480-no?authuser=0) "
      ]
    },
    {
      "cell_type": "markdown",
      "metadata": {
        "id": "K0NdZO7S8lUv"
      },
      "source": [
        "\n",
        "Variando o parâmetro CFL para equação de convecção usando os métodos de discretização **Runge-Kutta** e **Forward**\n",
        "\n",
        "CFL = 0.5   | CFL = 1 | CFL = 20\n",
        ":---------: | :------:|:------:|\n",
        "![texto do link](https://lh3.googleusercontent.com/pw/ACtC-3fSJ7x4nqUWEyZunr2mRYcxFuUW1srTzMnLmkNlYRvXAKgTmtONn1DpmC5OvbY1s-hEH-M60nIQ79C_nm1h45SB48qrf9ggloLnKsmRkf_6cf8ugUGvqA-SReG5b9T2QexB9PJILDMFH7ti4Rz9cmID=w640-h480-no?authuser=0) | ![texto do link](https://lh3.googleusercontent.com/pw/ACtC-3d-siQM2JmbjttqQmv4AX1tT8yJFSUjfl9Xs3XoFfxHO8P3cbyCNrXs_QHFuLoHIcAc1_WB60vVPGcAxhY46BDa5FolfWMGtoT-kUEKWWc3LmmHrakYSKlcwCjUS2NckKROsdKfNIvCUp8nXbU18bkd=w640-h480-no?authuser=0)| ![texto do link](https://lh3.googleusercontent.com/q9zCQJB58Cip2ksYAVGgrWO2VOv_k-i5M1CLoXN76TN4B6mqLsfOZmdTbSDMHFCu1gFKKOxuRFT7YySVJvEb6o4BzDarziyAEXyCse-xxlNnCFVVkuuEmRMOsjmqRtb817t1QlyHQH3UESUUalwHxGIoYkr_SIGl4E--LGECXxFSZ3TAMh3yYrw8gTWsS5UcE1rYf7LBQhqCwYHy94F8vCTh4ke-SKOMHhufLh5rdPNsy2Oec862PX-cT02S6tnfUT0J42oWKICxVZ487buQxa1Nl82RoKmYIRZhhO0dQ_6IRyxFSweSGjnTElupUT1kGYTJCg3fnokMAA2mtgCRfKVHbw5BpqQdUG-Jk3oW70fdrWY5fvHfL6vuszIJdHsmarcvGxuQy764gTMSj8lTmHBZ8V2JIQNy35g1BrT5Y7SDJE8ZCERxnMhjtMq6WDxOSt6jMSSoCFa8yzOVO1-vOtB4-0G8hkXIBH8g-MYzKbGVPP6Oq7gTzJsQ7psG6PK_NTB8K1oS3EudsTHlKlkEc2w0TXGFJ9N21PKrN8KGp6s62kQMGl-LuXNWqsb7ApJbdygX7UwCnESVjTwLDPcdehj5tjLn5Tq3iSWpmvc9o-AYrofYC9A57vTJNQR5V91DTmLDfcPpTUpXXB46WhqIBWNauenbI40Q2Q_Tv1BrWktP6bJQ0JPTrVSE8C_n6Q=w640-h480-no?authuser=0)\n",
        "\n"
      ]
    },
    {
      "cell_type": "markdown",
      "metadata": {
        "id": "kOw1mm2Iyqyi"
      },
      "source": [
        "Notou-se que independemente dos métodos de discretização do tempo e espaço, o método Forward  torna-se instável já para pequenos valores de CFL. Outra coisa que mostrou-se relavante durante a a analíse é que a equação de concecção/advecção é muito sensível ao método de discretização no espaço, nem tanto para discretização do tempo."
      ]
    },
    {
      "cell_type": "markdown",
      "metadata": {
        "id": "_PRHgEruXxtW"
      },
      "source": [
        "### **Analíse do parametro 'a' (velocidade):**\n",
        "De modo geral, na equação de adevecção o parametro 'a' está relacionado com a velocidade de propagação da informação/onda, e quando esse é negativo a onda se propaga no sentido negativo do eixo das abcissas(X).\n",
        "Analisando a variação do parâmetro 'a' para valores negativos na equação de advecção usando a discretização no tempo (Euler explícito e Runge-Kutta) e no espaço por **Backward**, verificou-se que a solução é instável para todos os valores testados de CFL(0.1,0.5,1 e 20).\n",
        "\n",
        "As figuras abaixo são representações para 'a' = -1.0 e método de Runge-Kutta de 2ª ordem.\n",
        "\n",
        "CFL = 0.5   | CFL = 20\n",
        ":---------: |:------:|\n",
        "![texto do link](https://lh3.googleusercontent.com/92qorD05j79h0tZjCmT27vPPMvewBSNaS1-kiextbZf9oZW3-nAg8U93Cn2o4l3Us1l6JQ6J3S2OrRkXNPKFEpl-O_u7o9ZLMKyEz_XL5ib80gtIqe8YKnoTAuQhM8ng6eWG7XMpFYdDeYXxxV-NRG1m7qXmcnyEVMf9UqUmu2cies44Gpga-KCh2-G6psM85rjN6Ie0RZPo4xMRad2pKrgC6zO15BUZokrObWwiW9GTXbRPoqgZXgP73_VvIRKq7WxEIphnoEiMoV-CSxC5mT1B8nfFW9xXl5Bsma4VGTevlYfn-vmbF_NPH0NHAU5NoZS0DKYrdwV9dq5Nmzm0XEGhkXLv9pvnipjwaOM4lgEv7T_vl53qH3iivRuYc_7KkORjhaOz0oSTcXH6ErPHWO1yykCfpdO8QU3anr-6u2XXuzc4sbRAehjVUK1UoISKlU6ov8m_PL5pGPIPRdZ6GLq00V2CAPl9uWrWjr-1_wn0Zy_ZQEBNpu0ZxXtWv6BicxQzqSLBFxaqlviZXAlslznZ6LmgGqDH4ZllzzznBZvnHVpjlP9WXUFVwhjElvXG4KCDOt9YaaELg4whpTBQ0KYtT8-V6Egk3ppUV7hNEM52AXgv7dwzKipnnCNkIoPd-z7ob0Vg7yvEUwxxLuYdLgOUQ6RM0MEgRAAZfEnRQUGnIxASypqZ0zL2eHAcjw=w640-h480-no?authuser=0)|![texto do link](https://lh3.googleusercontent.com/H15QuuGRKKL6Xe-QUlxUk5_v4y18o7anPYvma6dWFCbk7iM8rk3YyIPqmoumTWow6R9k29tIA8B0u7jmrgjTSkZn7yiCJeF2RFTZfxk-LUDIdei6Cn8GsLuzm4We_yMeNjYisvPkxS-vkZj-0L5tvU2mOYVr-5h9ox4o9heFhVXlRyt6nHcJ6TgJ70LP7Qgb_e5tQVjBaRMGidPn7LQxfDeATvQyo7r81iv1DCTftZtdUue5LG4oCHvA6SWyjsNOqHHIL4Q7VFAlGgPsSxI5i7IDiMLZROfJ2GmC2c9gBE8Txaqc92UTSp4A2IVjdw7I7AvQOXb5r8vbwGHe53gYhQ68yb_4AF1pAWbNBiNE_Jl5WwLxs0hEB3NWzU4CrR215Gn7KhZqMUgKz9_ns9FYN1kSCkoMvfE2XGei5VDlwK0TPpR0gkLpAIPGa-Tkblkw9WDXBKbd4EALyeVw-GqsB-5DR9vKGtDONQjDtAR49UuxPz6F1rrYGvHJo-s4heNnShcGRXgknHHOQOOjqh9eMPES85AMNWQbuaCmztk782kbo1rDQqaT7K-ysacpF-IXZ0WZj1buHtCiBeSHwizhicRKjw5UKkGJ9KiUL8LdV_e2U7Acd2aZwqBOV-D5a4cBzDelapeTsuKIU1Uj7w0LfR1ocXGppkwUzwice1ysqDU7ZAtphtBBUwEHU-fwGg=w640-h480-no?authuser=0)\n",
        "\n",
        "O mesmo compartamento foi observado para discretização no espaço pelo método **Centrado**, a solução mostrou-se instável para valores testados de CFL.\n",
        "\n",
        "As figuras abaixo são representações para 'a' = -1.0 e método de Euler explícito\n",
        "\n",
        "CFL = 0.5   | CFL = 20\n",
        ":---------: |:------:|\n",
        "![texto do link](https://lh3.googleusercontent.com/5aZxebSz_QnlOvl2KyqCpn8ZNLfL6n3zp-GnpRmW9yNxucKxWeSTZKDTH3khjsgmZ_BtiLr5YAC42Agr-0ILoyH9pMSlIhog5lCUQ6ge2zlaNNCcEEWjBnl9nssugDRraDG2pXv-73c-lY9XHsyizhMbvdg1ZddzHvrZWcCJ55OXLXkMqXxfVjewtSoixida-V6EEtcnOtDc9852mnmDT5fkQEa5NHMlEGdhoFViqDL4d0d1GiBQhfhQNnLfw9UjvUlqqAB1IqLC67G39_1l0xNnogE6zXJtL32sH8ataKXaDSQ2engCYIeOOPzNRymBMx5YpXtKncV_OXetCkqfybx34FCKIvJCD8J21I_R841-MYEAeKbTzO6ifu-x2L0rFhvRV_vSmAWmJUc7q8dA6tyfCIiCrn4dWy77-5X0DQprI2FO657P-Uxn8OMENkGh98zMvME4pnjvzhVsUWn-R7iYT1l_-nFseyq7foHjVGJMHrtov2j1HtHsHky4Ut7uwG_e6mZ0LaBXONYbK2SM6-kywmWS9C8V9qxgUIUyPtEmcooQ3T_PO6hXTm6XmDTjMN2Q3WAnw_iGm54GYtidwQ0wVAHCPp5j8cJ1SkSv34M-uoGYP2ZzMZIAexozP8vFr6WiYzdo22Esl8ez0tJf4YFJj_QBno_sW1pA6Iug7eQtqNywCkugrNBEdGY9UA=w640-h480-no?authuser=0)|![texto do link](https://lh3.googleusercontent.com/krl72jrs_Nq8uceKxXwFp5YVSCNrTLdd-iFYOCCs6qUewqzBHNfDnOx9dkman0dJND-7kvjH1xJXog7dE-A4YNi2VjPfodzqxiqoHOpsCRTSPMeyvKlrILmmqlHmr8U2YSUrhIoZVxfMoq-hs3rbUvO6btHPu0-ixR0dDpV15FO61dgKrbmHUQCZoU7LLSPAWak3P9NOSTP0WPXkF9gdybwjYpFkmDDTgjnpvS5FH1IuotP3Rr04ZrS7IOikXryC56NhjSQ1DJIYk7OHbfgOTM7b6_iyaks6XMeg3DotUUuKfJGhtfLrZU7BkUImbYPqUG-90aOvVL1Vqag7_51wUzlo7zLC88pHwRdlNK79-W_Td5CIto5DWozkngVstJx_7J7PMTjaZtI4eCmtJljY3SVOxy_UgMrAUGXNqK2VUYHR2srORh0aL0ahsEUSE-TLrhkS6tUHfUmVToWWKuqsbf6w9IFbVX1vYkgJQJysOaMI404lUPoezvN77I-qMkUO2JulocYjB8-h6jGmPI7us4G0HjvPRryGenyywDHeb9GD4Czv6wiVJJol9XcfZ5Wy22d0fouxAsAKjfPtZ376DViekCtZ4LIqZlUJscyYTQ9-UR8aMrPKoLCZ1NEW9sRSx5SeW1bGRdfWu1qK_WNJ8uG5j9aPCultHdO9lHy7QNr2bi6dAuVqRWC0gZccCQ=w640-h480-no?authuser=0)\n",
        "\n",
        "Para o método **Forward** a solução mostrou-se estável para valores de CFL menores que 1 e instável para valores maiores que 1,indepedendo do método de discretização no tempo, como é possível ver abaixo:\n",
        "\n",
        "CFL = 0.5   | CFL = 1 | CFL = 20\n",
        ":---------: |:------:|:------:|\n",
        "![texto do link](https://lh3.googleusercontent.com/-e3gRGjlnwqiZaiQJR0qv6IGoAk4S3z3KpUo5dcgdPZ7UbjqH1m7xyAKmpvpJmkEMgWJP2BW8cJ1L-sd0JLUPxbgK5PGTjqQtjj_TZkPSaWlzSuBT5sPCwjhDY2CqiMOzzo7E2v3YZbbRrFWnskQzgACnl7ZZPannyUpjLgG5dHkyc5b-6pe5oW7R79itQxojsQnuavqrrhOgfwRK4kSkYHIJOEW41QNpkMhEtyCYsWEUTvmhgvGSfp-qmuMENlwQvOdAs7NpRGx-KruAHSO5fGChI8cA3njsLTFsWZ_taiBi3B789EhGxfg4EcZVRf8YQPZSeDtsqwrsI1boIxzXk_2VPrmlv7VjBig87BDIGzEB_fOsVhrr_mb-wwJl2ii5_pO5E9yASkbw7HfXL2-qu9M1zcP0zvBxl_N7q4dmtYxzwUDMdj5EOP18075Wn0p6ajvVFmJMKfRASFwSsRI4HwISbldU4UfoJGLTxjfCosl2kKfxcm2jajZ06yfn8m4FwhR78uZhIiPBtYcbjv2t3CXTzX50WeoN_SUE2SWp3VTuuY8gzYE7_cTldQcedFEvjgmMPrteeLWcT8M8p2TNxsQfdTfuBUbscC1EA1ExYp79ak-zamDdX9gqicQfIPrK03vy649R-qjaz0qwBQdQcpON_CkNpcFHLtK88VDT8s5zwmSrUGXn2j5ilZeEw=w640-h480-no?authuser=0)|![texto do link](https://lh3.googleusercontent.com/NPajL4cnOjaqYFV4vCM2O3lk9IUdJINFO8hgUom6LmzST7ZSLnYNOujg1Fw7sD-ntJblQ_gDbWJa-I2EVYrEKHPHWceMhmShRtW8aIuZ2QanedDSBYeAjnv21SfQy18DAWn1es2TSUmgxYRTxrbo8xDqu1_aIXDlHJBO-bRThHN-6pScK5vG_LXfUqkSraHNfTDXSli4LD1hLs23HtBCiVWWH4EzYqUMC2D2RvyzJlDm4XaDFM8DIh22-iGOAMYrPIZEAKaJKUPI95JBoiT02E-hLfGyQ-eZtmGIpX_8-qveXM3bzNaWUIpKHIePqY6DoGhbSNr7fH465sfI8USUFgbQxZ-qTrOVzgPlDbX4QSF_XYJckon9iLIh2Ay8T-iNd5MYN2k0yRoKCtXzyDkzeOKH_yuJ9FpWPMrP2EsTnIdPnpbbTgDR3xeHRPl_r2EOqXJcxLgBlIgIihzCkp5-ggcX7lJ3BgineEDjEloXHrxMpqmbfxGcHNP5iu6lkfOfS_7sq_hQnRJNnl8yh5kFqTIOIuQr_ij-nf9pClx6tZxtHcNMVdR8aUb2IWkJrBIPSJnA5CfcyE9M21DN298ht58AWiI3gD46xz2eTEg18iIcBA833MD5PZ6bvngcuGQY6U8v_-rxShwK16Hnvt1xR1B2upE0szykYAzKR90EhJuzCvaTXdHNqPKmu2uOpA=w640-h480-no?authuser=0)|![texto do link](https://lh3.googleusercontent.com/gDzap_n6ehnK-IpIJS6emDr5m66crBdfMR4maZ0gDsKMmC3MZXi3jSSpdT20c1r17W23bbegIrw-8Ny5ulTRrtaBCo6cbcpt4WBNYbEFI1p9Yab9UxFWNVlemDVvcPjOE-kgsRYdDJlgc4sJhG5BvgMW5ZuYuWGd51EtIPfpAABFx8y_jnb9mMh_62zxPLRH8B54RgZ5YLBfjLq0TACi4NZf9Ths5zlKhdi-QWuPiIRG2LC-e1QZwxIghfLiHGtdIuJAQwfOZvvNBsk8EKJ9uqF-y0AjRbxc2fvZWsrygJ7qnMPgw-Njr6s3AIdGMJvPuJDXvNBhPwnqp3yxRDj-c6deX-LWvdatbIFNDY9uYkTlqwUKxaCw6u0mrWWxnpccVmqva79DJqoAQBnmalw61gG8U4qM41yAspiEdBxQXO2YShuBEHxAolYlXHo5_wudbINeUswX0hlXQhyXdFS4r89Z9EKC-YRAdU00alOJBH402HmRTOPw1sWxvxh9e4rvrHoc8BR_0FwZbfGU3gf9rKDFU7NE_ub8_kGOj4DCTdcOY8cLRHqli_fDi4eRbWAIpnMdQn_XQH7PQT4-DfKgFsvFkfHOG2QOZIpfrxYFNgRMUOpr3tAtWZe_wVz1Wzeqzjti6VCEgWz8juWrtNRy8Mz08LgHBylDWY2T3I_G-VXAwp6bMXb28vfjgAUPGg=w640-h480-no?authuser=0)\n",
        "\n"
      ]
    },
    {
      "cell_type": "markdown",
      "metadata": {
        "id": "BP0xiiHAMc4p"
      },
      "source": [
        "## **Equação de difusão**\n",
        "![texto do link](https://lh3.googleusercontent.com/pRpbxUbADUSjdkz-7g1ko5yXES74uNmHPHwf9fTqaLREbXQgbBqnNcyDX9ZYsFboIdCPHgGVDz6NXI24BgWEflYHrw6EcpyRBoyHKcDK6-luQh0EUv46GUF9X0L9oEekyrnTxV2izRaIAbCVRRNL9r7mUcCCMyEfW-piBUwhDo4DsRd6f8uTUaJBwjrMpSL7G9-rN9l55LShGWdWFHmoCEs9xnS0JlCEJQ2Za-7t-4B0aGzWp1lGqt1zSUzcgYyDgu53LtKqVI8emE5qiJymSUcQZuK3vkk9qabtf4deA38NqIanlifFFjvXzJka8C815ChjujS56XRyvobC18fQzWr_o5I1BdMQ-UcIIfsb4GIhtwMuB2JFt5BXk1gKIRJpvwEByizDwirp1RDDRxRp8w-NGzsx1N4WquNPnO4Gf7vWE92b5AfNGfk9x2NGt3XmN_CdvuvEnm97W8mpvdqfvpNegqU4QojeHf7C6MaB0JZgkgSU8_B1fzBqurrW2y2FItGzK1LQ4l6eX4KtEFxDrJgOIBzKcmlOaq1sToyL5jvXa-A1cXC12klv3nxBl2iKN6uXUH4mi7QSKkufxfN9D9GM_PEqH_bbF8TC76U7WvZee0klOu-utVxtPoUBbSrWlQ6Sfo79OPyukfuV4mdlY0M2Dj91fqpYv9HMmOYzjMbZn4yEEcuAI8OwmEmYSA=w127-h69-no?authuser=0)\n",
        "\n",
        "De modo geral a equação da difusão não transmite a informação(condição inicial) essa difunde a CI no meio. Notou-se que a difusão dá se muito rápido(menos de 0.5s) até cerca de 50% da CI e depois torna-se lenta.\n",
        "### **Centrada de segunda ordem (discretização no espaço)**\n",
        "Variando o parâmetro CFL viscoso para equação de difusão usando os métodos de discretização **Euler explícito** e **Centrada de segunda ordem**\n",
        "\n",
        "CFL = 0.5   | CFL = 1 | CFL = 20\n",
        ":---------: | :------:|:------:|\n",
        "![texto do link](https://lh3.googleusercontent.com/pw/ACtC-3dFOMfGCmW_vJN91CmuRnkOWHqL4tfx3DM8J0nKQm_njs29CIwZAVOZ6RTr_2p3tPpEh_wevf4lHSzu50UGwa_we9fstl_3kJUMqmCaNH2b3IFP94dG7ByD4SFa1fBEXrVslDQwotvR3uvISskJDgfI=w640-h480-no?authuser=0) | ![texto do link](https://lh3.googleusercontent.com/pw/ACtC-3fMQZZeubyCYlRTgjpeA2op-O0aDr8LnOAedFwfxjZmv416v83taYaRb71Ul77aNArVSdeKpQDfi_ZiKiiRfR88O2ujjHm4UkgSkJ562_Mih9OnG74po3vZ230lsXyJD-w-cIWbKI-r3LBdCxVJ_Gkc=w640-h480-no?authuser=0)| ![texto do link](https://lh3.googleusercontent.com/pw/ACtC-3dOYAIJYRzWhHUILmBw-TiCQCasPQnv2JQJuXic57u1IWVNmq8LkNF71uUygw1JHsaAHZyI3V90kPFgMIsbfqC7kzIG1EBcFpzgdhOAzUnj6xhGLAcbQz0h4GjqNCDoYTlVyLWXSbvJK2owIZf7JVw3=w640-h480-no?authuser=0)\n",
        "\n"
      ]
    },
    {
      "cell_type": "markdown",
      "metadata": {
        "id": "F2j03vlauyn1"
      },
      "source": [
        "Observeu-se para equação modelo de difusão que independemente do método de discretização do espaço e do tempo para valores superiores a CFL de 0.5 a solução se tornava instavel, como é possível na simulação a baixo para CFL de 0.55.\n",
        "\n",
        "|CFL = 0.55   | \n",
        ":---------: |\n",
        "![texto do link](https://lh3.googleusercontent.com/pw/ACtC-3c927F2o9QwsYNvK-LxSW3t2-iRPaxiKYh90ZlpEaIBCWOvZyz3BolSdqOY9ayytTKxBl9ZGi1nFU6dC9_ySOkZ-w-8LBUSPW5KfUa5y8-1-r7owTPV88rR-2ve_URaVr3kuFzTFOZJQeYau-114_KG=w640-h480-no?authuser=0)  "
      ]
    },
    {
      "cell_type": "markdown",
      "metadata": {
        "id": "ehci1dw8t46R"
      },
      "source": [
        "### **Analíse do parametro 'a' (viscosidade):**\n",
        "\n",
        "Analisando a variação do parâmetro 'a' para valores negativos na equação de difusão,com  discretização no tempo (Euler explícito e Runge-kutta), verificou-se que independemente dos métodos de discretização a solução encontrada é instável para todos os valores testados de CFL(0.1,0.5,1 e 20) para o parâmetro 'a' = -1."
      ]
    }
  ]
}